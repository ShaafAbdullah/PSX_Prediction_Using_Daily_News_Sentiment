{
 "cells": [
  {
   "cell_type": "markdown",
   "metadata": {},
   "source": [
    "# IMPORT "
   ]
  },
  {
   "cell_type": "code",
   "execution_count": 1,
   "metadata": {},
   "outputs": [
    {
     "name": "stdout",
     "output_type": "stream",
     "text": [
      "STOCK PREDICTION USING RNN LSTM\n"
     ]
    },
    {
     "name": "stderr",
     "output_type": "stream",
     "text": [
      "Using TensorFlow backend.\n"
     ]
    }
   ],
   "source": [
    "print('STOCK PREDICTION USING RNN LSTM')\n",
    "import numpy as np\n",
    "import pandas as pd\n",
    "from sklearn import preprocessing\n",
    "\n",
    "from keras.models import Sequential\n",
    "from keras.layers.core import Dense, Activation\n",
    "from keras.layers.recurrent import LSTM\n",
    "from keras.layers import  Dropout\n",
    "from keras.models import model_from_json\n",
    "from keras.models import load_model\n",
    "from keras import regularizers\n",
    "\n",
    "import matplotlib.pyplot as plt\n",
    "import matplotlib.ticker as mtick\n",
    "fmt = '$%.0f'\n",
    "tick = mtick.FormatStrFormatter(fmt)\n",
    "\n",
    "%matplotlib inline"
   ]
  },
  {
   "cell_type": "markdown",
   "metadata": {},
   "source": [
    "# Plotting the data"
   ]
  },
  {
   "cell_type": "code",
   "execution_count": 2,
   "metadata": {},
   "outputs": [
    {
     "data": {
      "image/png": "[encoded data removed]",
      "text/plain": [
       "<Figure size 432x288 with 1 Axes>"
      ]
     },
     "metadata": {
      "needs_background": "light"
     },
     "output_type": "display_data"
    },
    {
     "data": {
      "text/plain": [
       "<Figure size 432x288 with 0 Axes>"
      ]
     },
     "metadata": {},
     "output_type": "display_data"
    }
   ],
   "source": [
    "data_csv = pd.read_csv('final_data_hbl.csv')\n",
    "\n",
    "data_csv[['Close']].plot()\n",
    "plt.show()\n",
    "plt.clf()"
   ]
  },
  {
   "cell_type": "markdown",
   "metadata": {},
   "source": [
    "# Calculating the length of data to use"
   ]
  },
  {
   "cell_type": "code",
   "execution_count": 3,
   "metadata": {},
   "outputs": [
    {
     "name": "stdout",
     "output_type": "stream",
     "text": [
      "total_data: 1846\n"
     ]
    }
   ],
   "source": [
    "percentage_of_data = 1.0\n",
    "data_to_use = int(percentage_of_data*(len(data_csv)-1))\n",
    "\n",
    "# 80% of data will be of training 20% of data will be testing\n",
    "train_end = int(data_to_use*0.8)\n",
    "\n",
    "total_data = len(data_csv)\n",
    "print(\"total_data:\", total_data)"
   ]
  },
  {
   "cell_type": "code",
   "execution_count": 4,
   "metadata": {},
   "outputs": [
    {
     "name": "stdout",
     "output_type": "stream",
     "text": [
      "yt head (close) :\n",
      "1    121.87\n",
      "2    124.93\n",
      "3    124.98\n",
      "4    124.99\n",
      "5    123.56\n",
      "Name: Close, dtype: float64\n"
     ]
    }
   ],
   "source": [
    "start = total_data - data_to_use\n",
    "\n",
    "# Currently doing prediction only for 1 step ahead\n",
    "steps_to_predict = 1\n",
    "\n",
    "#close, compund, neg, neu, pos, open, high, low, volume\n",
    "# Order -> 8,1,2,3,4,5,6,7,9\n",
    "yt = data_csv.iloc[start:total_data,8] #close\n",
    "yt1 = data_csv.iloc[start:total_data,1] #compund\n",
    "yt2 = data_csv.iloc[start:total_data,2] #neg\n",
    "yt3 = data_csv.iloc[start:total_data,3] #neu\n",
    "yt4 = data_csv.iloc[start:total_data,4] #pos\n",
    "yt5 = data_csv.iloc[start:total_data,5] #open\n",
    "yt6 = data_csv.iloc[start:total_data,6] #high\n",
    "yt7 = data_csv.iloc[start:total_data,7] #low\n",
    "vt = data_csv.iloc[start:total_data,9] #volume\n",
    "\n",
    "print(\"yt head (close) :\")\n",
    "print(yt.head())"
   ]
  },
  {
   "cell_type": "markdown",
   "metadata": {},
   "source": [
    "# Shifting the data by 1"
   ]
  },
  {
   "cell_type": "code",
   "execution_count": 5,
   "metadata": {},
   "outputs": [
    {
     "name": "stdout",
     "output_type": "stream",
     "text": [
      "        yt     yt_     yt1    yt1_       vt     yt5     yt6     yt7\n",
      "1   121.87  124.93 -0.6996 -0.9442   627959  119.50  122.30  119.50\n",
      "2   124.93  124.98 -0.9442 -0.7906  1506848  121.75  126.45  121.40\n",
      "3   124.98  124.99 -0.7906 -0.5859   773913  124.50  125.89  123.75\n",
      "4   124.99  123.56 -0.5859 -0.9723   376749  125.84  126.06  124.69\n",
      "5   123.56  123.01 -0.9723 -0.9578   166214  126.24  126.80  123.00\n",
      "6   123.01  127.87 -0.9578 -0.3818   329849  123.61  124.50  122.75\n",
      "7   127.87  127.60 -0.3818 -0.7184   788687  124.00  128.90  123.89\n",
      "8   127.60  126.70 -0.7184 -0.8720   156709  128.70  128.97  126.25\n",
      "9   126.70  126.79 -0.8720 -0.5994   278339  128.48  128.48  126.45\n",
      "10  126.79  125.58 -0.5994 -0.7506   195832  127.75  128.00  126.34\n"
     ]
    }
   ],
   "source": [
    "#shift next day close and next day compund\n",
    "yt_ = yt.shift(-1) #shifted close\n",
    "yt1_ = yt1.shift(-1) #shifted compund\n",
    "\n",
    "#taking only: close, next_close, compund, next_compund, volume, open, high, low\n",
    "data = pd.concat([yt, yt_, yt1, yt1_, vt, yt5, yt6, yt7], axis=1)\n",
    "data.columns = ['yt', 'yt_', 'yt1', 'yt1_','vt', 'yt5', 'yt6', 'yt7']\n",
    "\n",
    "data = data.dropna()\n",
    "     \n",
    "print(data[:10])"
   ]
  },
  {
   "cell_type": "markdown",
   "metadata": {},
   "source": [
    "### Separating data into x and y\n",
    "**Approach:** Training the machine using ***compund, close price, and next_compund*** to predict ***next_close price***."
   ]
  },
  {
   "cell_type": "code",
   "execution_count": 6,
   "metadata": {},
   "outputs": [],
   "source": [
    "# target variable - closed price\n",
    "# after shifting\n",
    "y = data['yt_'] #next_close\n",
    "\n",
    "# close, compund, next_compund, volume, open, high, low   \n",
    "cols = ['yt', 'yt1', 'yt1_', 'vt', 'yt5', 'yt6', 'yt7']\n",
    "x = data[cols]"
   ]
  },
  {
   "cell_type": "markdown",
   "metadata": {},
   "source": [
    "### Preprocessing"
   ]
  },
  {
   "cell_type": "code",
   "execution_count": 7,
   "metadata": {},
   "outputs": [],
   "source": [
    "scaler_x = preprocessing.MinMaxScaler (feature_range=(-1, 1))\n",
    "x = np.array(x).reshape((len(x) ,len(cols)))\n",
    "x = scaler_x.fit_transform(x)\n",
    "\n",
    "scaler_y = preprocessing.MinMaxScaler (feature_range=(-1, 1))\n",
    "y = np.array (y).reshape ((len( y), 1))\n",
    "y = scaler_y.fit_transform (y)"
   ]
  },
  {
   "cell_type": "markdown",
   "metadata": {},
   "source": [
    "### Train Test Split"
   ]
  },
  {
   "cell_type": "code",
   "execution_count": 8,
   "metadata": {},
   "outputs": [],
   "source": [
    "X_train = x[0 : train_end,]\n",
    "X_test = x[train_end+1 : len(x),]    \n",
    "y_train = y[0 : train_end] \n",
    "y_test = y[train_end+1 : len(y)]  \n",
    "\n",
    "X_train = X_train.reshape (X_train. shape + (1,)) \n",
    "X_test = X_test.reshape(X_test.shape + (1,))"
   ]
  },
  {
   "cell_type": "markdown",
   "metadata": {},
   "source": [
    "### RNN LSTM Model"
   ]
  },
  {
   "cell_type": "code",
   "execution_count": 9,
   "metadata": {},
   "outputs": [
    {
     "name": "stderr",
     "output_type": "stream",
     "text": [
      "C:\\Anaconda\\lib\\site-packages\\ipykernel_launcher.py:10: UserWarning: Update your `LSTM` call to the Keras 2 API: `LSTM(25, return_sequences=True, activation=\"tanh\", input_shape=(7, 1), recurrent_activation=\"hard_sigmoid\")`\n",
      "  # Remove the CWD from sys.path while we load stuff.\n",
      "C:\\Anaconda\\lib\\site-packages\\ipykernel_launcher.py:17: UserWarning: Update your `Dense` call to the Keras 2 API: `Dense(activity_regularizer=<keras.reg..., activation=\"linear\", units=1)`\n",
      "C:\\Anaconda\\lib\\site-packages\\ipykernel_launcher.py:23: UserWarning: The `nb_epoch` argument in `fit` has been renamed `epochs`.\n"
     ]
    },
    {
     "name": "stdout",
     "output_type": "stream",
     "text": [
      "Model: \"sequential_1\"\n",
      "_________________________________________________________________\n",
      "Layer (type)                 Output Shape              Param #   \n",
      "=================================================================\n",
      "lstm_1 (LSTM)                (None, 7, 25)             2700      \n",
      "_________________________________________________________________\n",
      "dropout_1 (Dropout)          (None, 7, 25)             0         \n",
      "_________________________________________________________________\n",
      "lstm_2 (LSTM)                (None, 7, 25)             5100      \n",
      "_________________________________________________________________\n",
      "dropout_2 (Dropout)          (None, 7, 25)             0         \n",
      "_________________________________________________________________\n",
      "lstm_3 (LSTM)                (None, 25)                5100      \n",
      "_________________________________________________________________\n",
      "dropout_3 (Dropout)          (None, 25)                0         \n",
      "_________________________________________________________________\n",
      "dense_1 (Dense)              (None, 1)                 26        \n",
      "_________________________________________________________________\n",
      "activation_1 (Activation)    (None, 1)                 0         \n",
      "=================================================================\n",
      "Total params: 12,926\n",
      "Trainable params: 12,926\n",
      "Non-trainable params: 0\n",
      "_________________________________________________________________\n",
      "None\n",
      "Train on 1180 samples, validate on 296 samples\n",
      "Epoch 1/100\n",
      "1180/1180 [==============================] - 2s 2ms/step - loss: 0.1213 - val_loss: 0.1319\n",
      "Epoch 2/100\n",
      "1180/1180 [==============================] - 1s 485us/step - loss: 0.0655 - val_loss: 0.0559\n",
      "Epoch 3/100\n",
      "1180/1180 [==============================] - 1s 487us/step - loss: 0.0499 - val_loss: 0.0372\n",
      "Epoch 4/100\n",
      "1180/1180 [==============================] - 1s 494us/step - loss: 0.0465 - val_loss: 0.0269\n",
      "Epoch 5/100\n",
      "1180/1180 [==============================] - 1s 472us/step - loss: 0.0455 - val_loss: 0.0404\n",
      "Epoch 6/100\n",
      "1180/1180 [==============================] - 1s 485us/step - loss: 0.0404 - val_loss: 0.0393\n",
      "Epoch 7/100\n",
      "1180/1180 [==============================] - 1s 476us/step - loss: 0.0371 - val_loss: 0.0479\n",
      "Epoch 8/100\n",
      "1180/1180 [==============================] - 1s 477us/step - loss: 0.0302 - val_loss: 0.0213\n",
      "Epoch 9/100\n",
      "1180/1180 [==============================] - 1s 479us/step - loss: 0.0208 - val_loss: 0.0157\n",
      "Epoch 10/100\n",
      "1180/1180 [==============================] - 1s 477us/step - loss: 0.0153 - val_loss: 0.0145\n",
      "Epoch 11/100\n",
      "1180/1180 [==============================] - 1s 490us/step - loss: 0.0120 - val_loss: 0.0152\n",
      "Epoch 12/100\n",
      "1180/1180 [==============================] - 1s 472us/step - loss: 0.0112 - val_loss: 0.0110\n",
      "Epoch 13/100\n",
      "1180/1180 [==============================] - 1s 483us/step - loss: 0.0083 - val_loss: 0.0148\n",
      "Epoch 14/100\n",
      "1180/1180 [==============================] - 1s 467us/step - loss: 0.0083 - val_loss: 0.0118\n",
      "Epoch 15/100\n",
      "1180/1180 [==============================] - 1s 488us/step - loss: 0.0073 - val_loss: 0.0109\n",
      "Epoch 16/100\n",
      "1180/1180 [==============================] - 1s 489us/step - loss: 0.0067 - val_loss: 0.0086\n",
      "Epoch 17/100\n",
      "1180/1180 [==============================] - 1s 473us/step - loss: 0.0064 - val_loss: 0.0089\n",
      "Epoch 18/100\n",
      "1180/1180 [==============================] - 1s 488us/step - loss: 0.0058 - val_loss: 0.0086\n",
      "Epoch 19/100\n",
      "1180/1180 [==============================] - 1s 474us/step - loss: 0.0053 - val_loss: 0.0055\n",
      "Epoch 20/100\n",
      "1180/1180 [==============================] - 1s 486us/step - loss: 0.0046 - val_loss: 0.0056\n",
      "Epoch 21/100\n",
      "1180/1180 [==============================] - 1s 479us/step - loss: 0.0049 - val_loss: 0.0052\n",
      "Epoch 22/100\n",
      "1180/1180 [==============================] - 1s 479us/step - loss: 0.0043 - val_loss: 0.0058\n",
      "Epoch 23/100\n",
      "1180/1180 [==============================] - 1s 478us/step - loss: 0.0045 - val_loss: 0.0047\n",
      "Epoch 24/100\n",
      "1180/1180 [==============================] - 1s 476us/step - loss: 0.0042 - val_loss: 0.0044\n",
      "Epoch 25/100\n",
      "1180/1180 [==============================] - 1s 485us/step - loss: 0.0041 - val_loss: 0.0048\n",
      "Epoch 26/100\n",
      "1180/1180 [==============================] - 1s 494us/step - loss: 0.0037 - val_loss: 0.0040\n",
      "Epoch 27/100\n",
      "1180/1180 [==============================] - 1s 496us/step - loss: 0.0042 - val_loss: 0.0045\n",
      "Epoch 28/100\n",
      "1180/1180 [==============================] - 1s 504us/step - loss: 0.0040 - val_loss: 0.0040\n",
      "Epoch 29/100\n",
      "1180/1180 [==============================] - 1s 525us/step - loss: 0.0033 - val_loss: 0.0041\n",
      "Epoch 30/100\n",
      "1180/1180 [==============================] - 1s 483us/step - loss: 0.0037 - val_loss: 0.0040\n",
      "Epoch 31/100\n",
      "1180/1180 [==============================] - 1s 499us/step - loss: 0.0035 - val_loss: 0.0041\n",
      "Epoch 32/100\n",
      "1180/1180 [==============================] - 1s 479us/step - loss: 0.0032 - val_loss: 0.0036\n",
      "Epoch 33/100\n",
      "1180/1180 [==============================] - 1s 499us/step - loss: 0.0033 - val_loss: 0.0037\n",
      "Epoch 34/100\n",
      "1180/1180 [==============================] - 1s 499us/step - loss: 0.0034 - val_loss: 0.0038\n",
      "Epoch 35/100\n",
      "1180/1180 [==============================] - 1s 483us/step - loss: 0.0034 - val_loss: 0.0038\n",
      "Epoch 36/100\n",
      "1180/1180 [==============================] - 1s 538us/step - loss: 0.0032 - val_loss: 0.0033\n",
      "Epoch 37/100\n",
      "1180/1180 [==============================] - 1s 496us/step - loss: 0.0032 - val_loss: 0.0030\n",
      "Epoch 38/100\n",
      "1180/1180 [==============================] - 1s 564us/step - loss: 0.0031 - val_loss: 0.0034\n",
      "Epoch 39/100\n",
      "1180/1180 [==============================] - 1s 525us/step - loss: 0.0032 - val_loss: 0.0030\n",
      "Epoch 40/100\n",
      "1180/1180 [==============================] - 1s 512us/step - loss: 0.0030 - val_loss: 0.0027\n",
      "Epoch 41/100\n",
      "1180/1180 [==============================] - 1s 509us/step - loss: 0.0028 - val_loss: 0.0038\n",
      "Epoch 42/100\n",
      "1180/1180 [==============================] - 1s 536us/step - loss: 0.0028 - val_loss: 0.0029\n",
      "Epoch 43/100\n",
      "1180/1180 [==============================] - 1s 540us/step - loss: 0.0029 - val_loss: 0.0033\n",
      "Epoch 44/100\n",
      "1180/1180 [==============================] - 1s 526us/step - loss: 0.0029 - val_loss: 0.0032\n",
      "Epoch 45/100\n",
      "1180/1180 [==============================] - 1s 511us/step - loss: 0.0028 - val_loss: 0.0028\n",
      "Epoch 46/100\n",
      "1180/1180 [==============================] - 1s 502us/step - loss: 0.0026 - val_loss: 0.0036\n",
      "Epoch 47/100\n",
      "1180/1180 [==============================] - 1s 505us/step - loss: 0.0029 - val_loss: 0.0036\n",
      "Epoch 48/100\n",
      "1180/1180 [==============================] - 1s 507us/step - loss: 0.0028 - val_loss: 0.0026\n",
      "Epoch 49/100\n",
      "1180/1180 [==============================] - 1s 500us/step - loss: 0.0027 - val_loss: 0.0026\n",
      "Epoch 50/100\n",
      "1180/1180 [==============================] - 1s 528us/step - loss: 0.0025 - val_loss: 0.0024\n",
      "Epoch 51/100\n",
      "1180/1180 [==============================] - 1s 511us/step - loss: 0.0024 - val_loss: 0.0036\n",
      "Epoch 52/100\n",
      "1180/1180 [==============================] - 1s 514us/step - loss: 0.0027 - val_loss: 0.0026\n",
      "Epoch 53/100\n",
      "1180/1180 [==============================] - 1s 505us/step - loss: 0.0027 - val_loss: 0.0026\n",
      "Epoch 54/100\n",
      "1180/1180 [==============================] - 1s 513us/step - loss: 0.0025 - val_loss: 0.0029\n",
      "Epoch 55/100\n",
      "1180/1180 [==============================] - 1s 504us/step - loss: 0.0026 - val_loss: 0.0024\n",
      "Epoch 56/100\n",
      "1180/1180 [==============================] - 1s 499us/step - loss: 0.0025 - val_loss: 0.0024\n",
      "Epoch 57/100\n",
      "1180/1180 [==============================] - 1s 529us/step - loss: 0.0026 - val_loss: 0.0027\n",
      "Epoch 58/100\n",
      "1180/1180 [==============================] - 1s 502us/step - loss: 0.0025 - val_loss: 0.0022\n",
      "Epoch 59/100\n",
      "1180/1180 [==============================] - 1s 512us/step - loss: 0.0023 - val_loss: 0.0027\n",
      "Epoch 60/100\n",
      "1180/1180 [==============================] - 1s 495us/step - loss: 0.0025 - val_loss: 0.0025\n",
      "Epoch 61/100\n",
      "1180/1180 [==============================] - 1s 514us/step - loss: 0.0024 - val_loss: 0.0029\n",
      "Epoch 62/100\n",
      "1180/1180 [==============================] - 1s 504us/step - loss: 0.0026 - val_loss: 0.0026\n",
      "Epoch 63/100\n",
      "1180/1180 [==============================] - 1s 515us/step - loss: 0.0025 - val_loss: 0.0026\n",
      "Epoch 64/100\n"
     ]
    },
    {
     "name": "stdout",
     "output_type": "stream",
     "text": [
      "1180/1180 [==============================] - 1s 484us/step - loss: 0.0025 - val_loss: 0.0027\n",
      "Epoch 65/100\n",
      "1180/1180 [==============================] - 1s 469us/step - loss: 0.0025 - val_loss: 0.0025\n",
      "Epoch 66/100\n",
      "1180/1180 [==============================] - 1s 475us/step - loss: 0.0023 - val_loss: 0.0021\n",
      "Epoch 67/100\n",
      "1180/1180 [==============================] - 1s 485us/step - loss: 0.0024 - val_loss: 0.0025\n",
      "Epoch 68/100\n",
      "1180/1180 [==============================] - 1s 506us/step - loss: 0.0025 - val_loss: 0.0025\n",
      "Epoch 69/100\n",
      "1180/1180 [==============================] - 1s 484us/step - loss: 0.0023 - val_loss: 0.0021\n",
      "Epoch 70/100\n",
      "1180/1180 [==============================] - 1s 494us/step - loss: 0.0024 - val_loss: 0.0026\n",
      "Epoch 71/100\n",
      "1180/1180 [==============================] - 1s 474us/step - loss: 0.0025 - val_loss: 0.0027\n",
      "Epoch 72/100\n",
      "1180/1180 [==============================] - 1s 483us/step - loss: 0.0024 - val_loss: 0.0023\n",
      "Epoch 73/100\n",
      "1180/1180 [==============================] - 1s 473us/step - loss: 0.0022 - val_loss: 0.0023\n",
      "Epoch 74/100\n",
      "1180/1180 [==============================] - 1s 483us/step - loss: 0.0022 - val_loss: 0.0023\n",
      "Epoch 75/100\n",
      "1180/1180 [==============================] - 1s 478us/step - loss: 0.0023 - val_loss: 0.0024\n",
      "Epoch 76/100\n",
      "1180/1180 [==============================] - 1s 470us/step - loss: 0.0021 - val_loss: 0.0022\n",
      "Epoch 77/100\n",
      "1180/1180 [==============================] - 1s 476us/step - loss: 0.0024 - val_loss: 0.0024\n",
      "Epoch 78/100\n",
      "1180/1180 [==============================] - 1s 469us/step - loss: 0.0023 - val_loss: 0.0022\n",
      "Epoch 79/100\n",
      "1180/1180 [==============================] - 1s 478us/step - loss: 0.0022 - val_loss: 0.0022\n",
      "Epoch 80/100\n",
      "1180/1180 [==============================] - 1s 484us/step - loss: 0.0023 - val_loss: 0.0022\n",
      "Epoch 81/100\n",
      "1180/1180 [==============================] - 1s 485us/step - loss: 0.0023 - val_loss: 0.0022\n",
      "Epoch 82/100\n",
      "1180/1180 [==============================] - 1s 490us/step - loss: 0.0023 - val_loss: 0.0024\n",
      "Epoch 83/100\n",
      "1180/1180 [==============================] - 1s 485us/step - loss: 0.0022 - val_loss: 0.0026\n",
      "Epoch 84/100\n",
      "1180/1180 [==============================] - 1s 493us/step - loss: 0.0024 - val_loss: 0.0021\n",
      "Epoch 85/100\n",
      "1180/1180 [==============================] - 1s 492us/step - loss: 0.0022 - val_loss: 0.0022\n",
      "Epoch 86/100\n",
      "1180/1180 [==============================] - 1s 476us/step - loss: 0.0022 - val_loss: 0.0020\n",
      "Epoch 87/100\n",
      "1180/1180 [==============================] - 1s 475us/step - loss: 0.0022 - val_loss: 0.0019\n",
      "Epoch 88/100\n",
      "1180/1180 [==============================] - 1s 483us/step - loss: 0.0019 - val_loss: 0.0021\n",
      "Epoch 89/100\n",
      "1180/1180 [==============================] - 1s 477us/step - loss: 0.0023 - val_loss: 0.0027\n",
      "Epoch 90/100\n",
      "1180/1180 [==============================] - 1s 482us/step - loss: 0.0021 - val_loss: 0.0025\n",
      "Epoch 91/100\n",
      "1180/1180 [==============================] - 1s 496us/step - loss: 0.0022 - val_loss: 0.0024\n",
      "Epoch 92/100\n",
      "1180/1180 [==============================] - 1s 486us/step - loss: 0.0021 - val_loss: 0.0020\n",
      "Epoch 93/100\n",
      "1180/1180 [==============================] - 1s 525us/step - loss: 0.0021 - val_loss: 0.0022\n",
      "Epoch 94/100\n",
      "1180/1180 [==============================] - 1s 598us/step - loss: 0.0022 - val_loss: 0.0030\n",
      "Epoch 95/100\n",
      "1180/1180 [==============================] - 1s 535us/step - loss: 0.0022 - val_loss: 0.0020\n",
      "Epoch 96/100\n",
      "1180/1180 [==============================] - 1s 532us/step - loss: 0.0021 - val_loss: 0.0030\n",
      "Epoch 97/100\n",
      "1180/1180 [==============================] - 1s 554us/step - loss: 0.0021 - val_loss: 0.0024\n",
      "Epoch 98/100\n",
      "1180/1180 [==============================] - 1s 510us/step - loss: 0.0021 - val_loss: 0.0021\n",
      "Epoch 99/100\n",
      "1180/1180 [==============================] - 1s 535us/step - loss: 0.0022 - val_loss: 0.0021\n",
      "Epoch 100/100\n",
      "1180/1180 [==============================] - 1s 538us/step - loss: 0.0022 - val_loss: 0.0022\n"
     ]
    }
   ],
   "source": [
    "batch_size = 32\n",
    "nb_epoch = 100\n",
    "neurons = 25\n",
    "dropout = 0.1\n",
    "\n",
    "seed = 2016\n",
    "np.random.seed(seed)\n",
    "\n",
    "model = Sequential ()\n",
    "model.add(LSTM(neurons, return_sequences=True, activation='tanh', inner_activation='hard_sigmoid', input_shape=(len(cols), 1)))\n",
    "model.add(Dropout(dropout))\n",
    "model.add(LSTM(neurons, return_sequences=True,  activation='tanh'))\n",
    "model.add(Dropout(dropout))\n",
    "model.add(LSTM(neurons, activation='tanh'))\n",
    "model.add(Dropout(dropout))\n",
    "\n",
    "model.add(Dense(activity_regularizer=regularizers.l1(0.00001), output_dim=1, activation='linear'))\n",
    "model.add(Activation('tanh'))\n",
    "\n",
    "print(model.summary())\n",
    "\n",
    "model.compile(loss='mean_squared_error' , optimizer='RMSprop')\n",
    "history=model.fit(X_train, y_train, batch_size=batch_size, nb_epoch=nb_epoch, verbose=1, validation_split=0.2)\n"
   ]
  },
  {
   "cell_type": "markdown",
   "metadata": {},
   "source": [
    "### Score Calculation"
   ]
  },
  {
   "cell_type": "code",
   "execution_count": 10,
   "metadata": {},
   "outputs": [
    {
     "name": "stdout",
     "output_type": "stream",
     "text": [
      "1476/1476 [==============================] - 4s 3ms/step\n",
      "367/367 [==============================] - 1s 3ms/step\n",
      "in train MSE =  0.0011\n",
      "in test MSE =  0.0144\n"
     ]
    }
   ],
   "source": [
    "score_train = model.evaluate(X_train, y_train, batch_size =1)\n",
    "score_test = model.evaluate(X_test, y_test, batch_size =1)\n",
    "print(\"in train MSE = \", round( score_train ,4)) \n",
    "print(\"in test MSE = \", round(score_test ,4))"
   ]
  },
  {
   "cell_type": "markdown",
   "metadata": {},
   "source": [
    "### Predicting on unseen data"
   ]
  },
  {
   "cell_type": "code",
   "execution_count": 11,
   "metadata": {},
   "outputs": [
    {
     "name": "stdout",
     "output_type": "stream",
     "text": [
      "Inputs: (None, 7, 1)\n",
      "Outputs: (None, 1)\n",
      "Actual input: (367, 7, 1)\n",
      "Actual output: (367, 1)\n",
      "prediction data:\n",
      "[187.67554]\n",
      "actual data\n",
      "[[272.46     0.7351  -0.9849 ... 274.5    283.99   259.46  ]\n",
      " [262.89    -0.9849  -0.3784 ... 275.     275.9    261.25  ]\n",
      " [261.75    -0.3784  -0.9716 ... 265.28   265.5    259.5   ]\n",
      " ...\n",
      " [174.8     -0.8853  -0.9939 ... 172.     176.49   171.    ]\n",
      " [181.72    -0.9939  -0.6908 ... 175.     183.54   174.02  ]\n",
      " [189.47    -0.6908   0.9178 ... 181.     189.74   180.02  ]]\n"
     ]
    },
    {
     "name": "stderr",
     "output_type": "stream",
     "text": [
      "C:\\Anaconda\\lib\\site-packages\\ipykernel_launcher.py:27: MatplotlibDeprecationWarning: Adding an axes using the same arguments as a previous axes currently reuses the earlier instance.  In a future version, a new instance will always be created and returned.  Meanwhile, this warning can be suppressed, and the future behavior ensured, by passing a unique label to each axes instance.\n"
     ]
    },
    {
     "data": {
      "image/png": "[encoded data removed]",
      "text/plain": [
       "<Figure size 432x288 with 1 Axes>"
      ]
     },
     "metadata": {
      "needs_background": "light"
     },
     "output_type": "display_data"
    },
    {
     "data": {
      "text/plain": [
       "<Figure size 432x288 with 0 Axes>"
      ]
     },
     "metadata": {},
     "output_type": "display_data"
    }
   ],
   "source": [
    "pred = model.predict(X_test) \n",
    "pred = scaler_y.inverse_transform(np.array(pred).reshape((len(pred), 1)))\n",
    "\n",
    "prediction_data = pred[-1]     \n",
    "\n",
    "print (\"Inputs: {}\".format(model.input_shape))\n",
    "print (\"Outputs: {}\".format(model.output_shape))\n",
    "print (\"Actual input: {}\".format(X_test.shape))\n",
    "print (\"Actual output: {}\".format(y_test.shape))\n",
    "\n",
    "print (\"prediction data:\")\n",
    "print (prediction_data)\n",
    "\n",
    "print (\"actual data\")\n",
    "X_test = scaler_x.inverse_transform(np.array(X_test).reshape((len(X_test), len(cols))))\n",
    "print (X_test)\n",
    "\n",
    "#########################################################################\n",
    "'''Plotting'''\n",
    "plt.plot(pred, label=\"predictions\")\n",
    "\n",
    "y_test = scaler_y.inverse_transform(np.array(y_test).reshape((len( y_test), 1)))\n",
    "plt.plot([row[0] for row in y_test], label=\"actual\")\n",
    "\n",
    "plt.legend(loc='upper center', bbox_to_anchor=(0.5, -0.05), fancybox=True, shadow=True, ncol=2)\n",
    "\n",
    "ax = plt.axes()\n",
    "ax.yaxis.set_major_formatter(tick)\n",
    "plt.show()\n",
    "plt.clf()"
   ]
  },
  {
   "cell_type": "code",
   "execution_count": 12,
   "metadata": {},
   "outputs": [
    {
     "data": {
      "image/png": "[encoded data removed]",
      "text/plain": [
       "<Figure size 576x360 with 1 Axes>"
      ]
     },
     "metadata": {
      "needs_background": "light"
     },
     "output_type": "display_data"
    },
    {
     "data": {
      "text/plain": [
       "<Figure size 432x288 with 0 Axes>"
      ]
     },
     "metadata": {},
     "output_type": "display_data"
    }
   ],
   "source": [
    "pd.DataFrame(history.history).plot(figsize=(8, 5))\n",
    "plt.grid(True)\n",
    "plt.gca().set_ylim(0, 1)\n",
    "plt.show()\n",
    "plt.savefig('Engro.pdf')"
   ]
  },
  {
   "cell_type": "code",
   "execution_count": null,
   "metadata": {},
   "outputs": [],
   "source": []
  }
 ],
 "metadata": {
  "kernelspec": {
   "display_name": "Python 3",
   "language": "python",
   "name": "python3"
  },
  "language_info": {
   "codemirror_mode": {
    "name": "ipython",
    "version": 3
   },
   "file_extension": ".py",
   "mimetype": "text/x-python",
   "name": "python",
   "nbconvert_exporter": "python",
   "pygments_lexer": "ipython3",
   "version": "3.7.7"
  }
 },
 "nbformat": 4,
 "nbformat_minor": 4
}
