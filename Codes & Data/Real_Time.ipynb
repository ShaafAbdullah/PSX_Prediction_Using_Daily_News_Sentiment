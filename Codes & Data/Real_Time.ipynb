{
 "cells": [
  {
   "cell_type": "markdown",
   "metadata": {
    "seekwell": {
     "destination": "superbowl!A1",
     "destinationType": "sheets",
     "spreadsheetId": "yourSheetID"
    }
   },
   "source": [
    "### News Scraping"
   ]
  },
  {
   "cell_type": "code",
   "execution_count": 25,
   "metadata": {
    "seekwell": {
     "destination": "superbowl!A1",
     "destinationType": "sheets",
     "spreadsheetId": "dawn_simple"
    }
   },
   "outputs": [
    {
     "ename": "TypeError",
     "evalue": "'DataFrame' object is not callable",
     "output_type": "error",
     "traceback": [
      "\u001b[1;31m---------------------------------------------------------------------------\u001b[0m",
      "\u001b[1;31mTypeError\u001b[0m                                 Traceback (most recent call last)",
      "\u001b[1;32m<ipython-input-25-89958fe3c31a>\u001b[0m in \u001b[0;36m<module>\u001b[1;34m\u001b[0m\n\u001b[0;32m     14\u001b[0m \u001b[0mmonth\u001b[0m\u001b[1;33m=\u001b[0m\u001b[0mdate\u001b[0m\u001b[1;33m.\u001b[0m\u001b[0mmonth\u001b[0m\u001b[1;33m\u001b[0m\u001b[1;33m\u001b[0m\u001b[0m\n\u001b[0;32m     15\u001b[0m \u001b[0mfileName\u001b[0m \u001b[1;33m=\u001b[0m \u001b[1;34m\"dawn_simple.csv\"\u001b[0m\u001b[1;33m\u001b[0m\u001b[1;33m\u001b[0m\u001b[0m\n\u001b[1;32m---> 16\u001b[1;33m \u001b[0mf\u001b[0m \u001b[1;33m=\u001b[0m \u001b[0mopen\u001b[0m\u001b[1;33m(\u001b[0m\u001b[0mfileName\u001b[0m\u001b[1;33m,\u001b[0m\u001b[1;34m\"w\"\u001b[0m\u001b[1;33m)\u001b[0m\u001b[1;33m\u001b[0m\u001b[1;33m\u001b[0m\u001b[0m\n\u001b[0m\u001b[0;32m     17\u001b[0m \u001b[0mheaders\u001b[0m \u001b[1;33m=\u001b[0m \u001b[1;34m\"headline, date\\n\"\u001b[0m\u001b[1;33m\u001b[0m\u001b[1;33m\u001b[0m\u001b[0m\n\u001b[0;32m     18\u001b[0m \u001b[0mf\u001b[0m\u001b[1;33m.\u001b[0m\u001b[0mwrite\u001b[0m\u001b[1;33m(\u001b[0m\u001b[0mheaders\u001b[0m\u001b[1;33m)\u001b[0m\u001b[1;33m\u001b[0m\u001b[1;33m\u001b[0m\u001b[0m\n",
      "\u001b[1;31mTypeError\u001b[0m: 'DataFrame' object is not callable"
     ]
    }
   ],
   "source": [
    "\"\"\"\n",
    "Created on Sun Jun 28 20:45:50 2020\n",
    "@author: SHAAF ABDULLAH\n",
    "\"\"\"\n",
    "import urllib\n",
    "import pandas as pd\n",
    "from urllib.request import urlopen as uReq\n",
    "from bs4 import BeautifulSoup as soup\n",
    "from time import sleep\n",
    "import datetime\n",
    "stock_time=datetime.datetime.now()\n",
    "date=datetime.datetime.now().date()\n",
    "day=date.day\n",
    "month=date.month\n",
    "fileName = \"dawn_simple.csv\"\n",
    "f = open(fileName,\"w\")\n",
    "headers = \"headline, date\\n\"\n",
    "f.write(headers)\n",
    "for year in range(2020,2021):\n",
    "    for month in range(month,month+1):\n",
    "        for day in range(day-2,day+1):\n",
    "            if(month < 9 and day > 9):\n",
    "                url_to_scrape = \"https://www.dawn.com/archive/\"+str(year)+\"-0\"+str(month)+\"-\"+str(day)+\"/\"\n",
    "            elif(month>9 and day < 9):\n",
    "                url_to_scrape = \"https://www.dawn.com/archive/\"+str(year)+\"-\"+str(month)+\"-0\"+str(day)+\"/\"\n",
    "            elif(month<9 and day <9):\n",
    "                url_to_scrape = \"https://www.dawn.com/archive/\"+str(year)+\"-0\"+str(month)+\"-0\"+str(day)+\"/\" \n",
    "            else:\n",
    "                url_to_scrape = \"https://www.dawn.com/archive/\"+str(year)+\"-\"+str(month)+\"-\"+str(day)+\"/\"\n",
    "                \n",
    "            try: \n",
    "                #create connection with url\n",
    "                client_page = uReq(url_to_scrape)\n",
    "                sleep(2)\n",
    "            except urllib.error.HTTPError as e:\n",
    "                if e.getcode() == 404: # check the return code\n",
    "                    continue\n",
    "            page_html = client_page.read()\n",
    "            client_page.close()\n",
    "            #parse html recieved\n",
    "            page_soup = soup(page_html,\"html.parser\") \n",
    "            \n",
    "            #retrieving top stories from parsed html \n",
    "            top_stories = page_soup.find_all(\"article\",{\"data-layout\":\"story\"})\n",
    "            \n",
    "            for news in top_stories:\n",
    "        \n",
    "                headline = news.h2.text\n",
    "                headline.encode(\"utf-8\")\n",
    "                try:\n",
    "                    date = (news.find_all(\"span\",{\"class\":\"timeago\"}))[0].text\n",
    "                    date.encode(\"utf-8\")\n",
    "                except:\n",
    "                    break\n",
    "                headline = headline.replace(\",\",\" \")\n",
    "                headline = headline.replace(\"\\n\",\" \")\n",
    "                f.write(headline+\",\"+date.replace(\",\",\" \")+\"\\n\")\n",
    "f.close()\n"
   ]
  },
  {
   "cell_type": "markdown",
   "metadata": {},
   "source": [
    "### REAL TIME STOCK DATA"
   ]
  },
  {
   "cell_type": "code",
   "execution_count": 2,
   "metadata": {
    "seekwell": {
     "destination": "superbowl!A1",
     "destinationType": "sheets",
     "spreadsheetId": "psx_scrapping"
    }
   },
   "outputs": [],
   "source": [
    "\"\"\"\n",
    "Created on Sun Jul 12 17:51:32 2020\n",
    "@author: SHAAFABDULLAH\n",
    "\"\"\"\n",
    "from bs4 import BeautifulSoup as soup\n",
    "import requests\n",
    "news_time=datetime.datetime.now()\n",
    "fileName = \"psx_scraping.csv\"\n",
    "f = open(fileName,\"w\")\n",
    "headers = \"SCRIP, LDCP, OPEN, HIGH, LOW, CURRENT, CHANGE, VOLUME, \"\"\\n\"\n",
    "f.write(headers)\n",
    "url_to_scrape = \"https://www.psx.com.pk/market-summary/\"\n",
    "\n",
    "try:\n",
    "    client_page = requests.get(url_to_scrape)\n",
    "except:\n",
    "    print(\"Request aborted due to unknown reason!\")\n",
    "\n",
    "page_html = client_page.text\n",
    "client_page.close()\n",
    "#parse html recieved\n",
    "page_soup = soup(page_html,\"html.parser\") \n",
    "#retrieving tables from parsed html \n",
    "tables = page_soup.find_all(\"table\")\n",
    "\n",
    "for table in tables[1:(len(tables)-1)]:\n",
    "        rows=table.find_all(\"tr\")[1:]\n",
    "        for row in rows[1:]:\n",
    "            \n",
    "            columns = row.find_all(\"td\")[:]\n",
    "            for column in columns:\n",
    "                data = column.text\n",
    "                data = data.replace(\",\",\" \")\n",
    "                data = data.replace(\"\\n\",\" \")\n",
    "                f.write(data+\", \")\n",
    "            f.write(\"\\n\")\n",
    "f.close()"
   ]
  },
  {
   "cell_type": "markdown",
   "metadata": {},
   "source": [
    "### SCRAPED DATA PREPROCESSING"
   ]
  },
  {
   "cell_type": "code",
   "execution_count": 3,
   "metadata": {
    "seekwell": {
     "destination": "superbowl!A1",
     "destinationType": "sheets",
     "spreadsheetId": "dawn"
    }
   },
   "outputs": [
    {
     "name": "stdout",
     "output_type": "stream",
     "text": [
      "TIME NEWS DATA UPDATED: \n",
      "2020-07-16 08:00:33.882694\n"
     ]
    },
    {
     "data": {
      "text/html": [
       "<div>\n",
       "<style scoped>\n",
       "    .dataframe tbody tr th:only-of-type {\n",
       "        vertical-align: middle;\n",
       "    }\n",
       "\n",
       "    .dataframe tbody tr th {\n",
       "        vertical-align: top;\n",
       "    }\n",
       "\n",
       "    .dataframe thead th {\n",
       "        text-align: right;\n",
       "    }\n",
       "</style>\n",
       "<table border=\"1\" class=\"dataframe\">\n",
       "  <thead>\n",
       "    <tr style=\"text-align: right;\">\n",
       "      <th></th>\n",
       "      <th>headline</th>\n",
       "      <th>date</th>\n",
       "    </tr>\n",
       "  </thead>\n",
       "  <tbody>\n",
       "    <tr>\n",
       "      <th>0</th>\n",
       "      <td>The death penalty around the world</td>\n",
       "      <td>14 Jul  2020 10:05pm</td>\n",
       "    </tr>\n",
       "    <tr>\n",
       "      <th>1</th>\n",
       "      <td>3 soldiers martyred in firing by terrorists in...</td>\n",
       "      <td>14 Jul  2020 09:40pm</td>\n",
       "    </tr>\n",
       "    <tr>\n",
       "      <th>2</th>\n",
       "      <td>FM Qureshi discharged from hospital after 10 d...</td>\n",
       "      <td>14 Jul  2020 08:25pm</td>\n",
       "    </tr>\n",
       "    <tr>\n",
       "      <th>3</th>\n",
       "      <td>US carries out the first federal execution in ...</td>\n",
       "      <td>14 Jul  2020 07:51pm</td>\n",
       "    </tr>\n",
       "    <tr>\n",
       "      <th>4</th>\n",
       "      <td>Cable operators protest KE's 'stubbornness' by...</td>\n",
       "      <td>14 Jul  2020 09:36pm</td>\n",
       "    </tr>\n",
       "    <tr>\n",
       "      <th>...</th>\n",
       "      <td>...</td>\n",
       "      <td>...</td>\n",
       "    </tr>\n",
       "    <tr>\n",
       "      <th>126</th>\n",
       "      <td>Govt slammed for failing to manage KE affairs</td>\n",
       "      <td>15 Jul  2020 08:55am</td>\n",
       "    </tr>\n",
       "    <tr>\n",
       "      <th>127</th>\n",
       "      <td>CAA clears licences of 55 pilots working in Qa...</td>\n",
       "      <td>15 Jul  2020 08:37am</td>\n",
       "    </tr>\n",
       "    <tr>\n",
       "      <th>128</th>\n",
       "      <td>Govt plans to restrict use of foreign satellites</td>\n",
       "      <td>15 Jul  2020 08:39am</td>\n",
       "    </tr>\n",
       "    <tr>\n",
       "      <th>129</th>\n",
       "      <td>Iran drops India from key Chabahar project</td>\n",
       "      <td>15 Jul  2020 08:37am</td>\n",
       "    </tr>\n",
       "    <tr>\n",
       "      <th>130</th>\n",
       "      <td>Imran orders action against wheat hoarders</td>\n",
       "      <td>15 Jul  2020 08:18am</td>\n",
       "    </tr>\n",
       "  </tbody>\n",
       "</table>\n",
       "<p>131 rows × 2 columns</p>\n",
       "</div>"
      ],
      "text/plain": [
       "                                              headline                  date\n",
       "0                  The death penalty around the world   14 Jul  2020 10:05pm\n",
       "1    3 soldiers martyred in firing by terrorists in...  14 Jul  2020 09:40pm\n",
       "2    FM Qureshi discharged from hospital after 10 d...  14 Jul  2020 08:25pm\n",
       "3    US carries out the first federal execution in ...  14 Jul  2020 07:51pm\n",
       "4    Cable operators protest KE's 'stubbornness' by...  14 Jul  2020 09:36pm\n",
       "..                                                 ...                   ...\n",
       "126     Govt slammed for failing to manage KE affairs   15 Jul  2020 08:55am\n",
       "127  CAA clears licences of 55 pilots working in Qa...  15 Jul  2020 08:37am\n",
       "128  Govt plans to restrict use of foreign satellites   15 Jul  2020 08:39am\n",
       "129        Iran drops India from key Chabahar project   15 Jul  2020 08:37am\n",
       "130        Imran orders action against wheat hoarders   15 Jul  2020 08:18am\n",
       "\n",
       "[131 rows x 2 columns]"
      ]
     },
     "execution_count": 3,
     "metadata": {},
     "output_type": "execute_result"
    }
   ],
   "source": [
    "print('TIME NEWS DATA UPDATED: ')\n",
    "print(news_time)\n",
    "News=pd.read_csv('dawn_simple.csv',encoding='iso-8859-1' )\n",
    "News[:]"
   ]
  },
  {
   "cell_type": "code",
   "execution_count": 4,
   "metadata": {
    "seekwell": {
     "destination": "superbowl!A1",
     "destinationType": "sheets",
     "spreadsheetId": "1"
    }
   },
   "outputs": [],
   "source": [
    "News.columns=['Headlines','Date']\n",
    "News['Date'] = pd.to_datetime(News['Date']).dt.date\n",
    "News=News.groupby(['Date']).agg(lambda col: ','.join(col))\n"
   ]
  },
  {
   "cell_type": "code",
   "execution_count": 5,
   "metadata": {
    "seekwell": {
     "destination": "superbowl!A1",
     "destinationType": "sheets",
     "spreadsheetId": "stock"
    }
   },
   "outputs": [
    {
     "name": "stdout",
     "output_type": "stream",
     "text": [
      "TIME STOCK DATA UPDATED: \n",
      "2020-07-16 08:00:22.553432\n"
     ]
    },
    {
     "data": {
      "text/html": [
       "<div>\n",
       "<style scoped>\n",
       "    .dataframe tbody tr th:only-of-type {\n",
       "        vertical-align: middle;\n",
       "    }\n",
       "\n",
       "    .dataframe tbody tr th {\n",
       "        vertical-align: top;\n",
       "    }\n",
       "\n",
       "    .dataframe thead th {\n",
       "        text-align: right;\n",
       "    }\n",
       "</style>\n",
       "<table border=\"1\" class=\"dataframe\">\n",
       "  <thead>\n",
       "    <tr style=\"text-align: right;\">\n",
       "      <th></th>\n",
       "      <th>SCRIP</th>\n",
       "      <th>LDCP</th>\n",
       "      <th>OPEN</th>\n",
       "      <th>HIGH</th>\n",
       "      <th>LOW</th>\n",
       "      <th>CURRENT</th>\n",
       "      <th>CHANGE</th>\n",
       "      <th>VOLUME</th>\n",
       "      <th></th>\n",
       "    </tr>\n",
       "  </thead>\n",
       "  <tbody>\n",
       "    <tr>\n",
       "      <th>0</th>\n",
       "      <td>Al-Ghazi Tractors Limited.</td>\n",
       "      <td>358.53</td>\n",
       "      <td>356.00</td>\n",
       "      <td>356.00</td>\n",
       "      <td>350.00</td>\n",
       "      <td>352.51</td>\n",
       "      <td>-6.02</td>\n",
       "      <td>1 600</td>\n",
       "      <td></td>\n",
       "    </tr>\n",
       "    <tr>\n",
       "      <th>1</th>\n",
       "      <td>Atlas Honda Limited.</td>\n",
       "      <td>392.00</td>\n",
       "      <td>390.00</td>\n",
       "      <td>392.00</td>\n",
       "      <td>390.00</td>\n",
       "      <td>392.00</td>\n",
       "      <td>0.00</td>\n",
       "      <td>200</td>\n",
       "      <td></td>\n",
       "    </tr>\n",
       "    <tr>\n",
       "      <th>2</th>\n",
       "      <td>Dewan Farooque Motors Limited [ DEFAULTER SEGM...</td>\n",
       "      <td>6.09</td>\n",
       "      <td>6.20</td>\n",
       "      <td>6.20</td>\n",
       "      <td>5.86</td>\n",
       "      <td>5.99</td>\n",
       "      <td>-0.10</td>\n",
       "      <td>436 000</td>\n",
       "      <td></td>\n",
       "    </tr>\n",
       "    <tr>\n",
       "      <th>3</th>\n",
       "      <td>Ghandhara Industries Ltd.</td>\n",
       "      <td>143.88</td>\n",
       "      <td>143.98</td>\n",
       "      <td>154.67</td>\n",
       "      <td>143.60</td>\n",
       "      <td>154.67</td>\n",
       "      <td>10.79</td>\n",
       "      <td>2 037 900</td>\n",
       "      <td></td>\n",
       "    </tr>\n",
       "    <tr>\n",
       "      <th>4</th>\n",
       "      <td>Ghandhara Nissan Ltd.</td>\n",
       "      <td>69.26</td>\n",
       "      <td>69.30</td>\n",
       "      <td>74.45</td>\n",
       "      <td>69.30</td>\n",
       "      <td>73.20</td>\n",
       "      <td>3.94</td>\n",
       "      <td>4 625 000</td>\n",
       "      <td></td>\n",
       "    </tr>\n",
       "    <tr>\n",
       "      <th>...</th>\n",
       "      <td>...</td>\n",
       "      <td>...</td>\n",
       "      <td>...</td>\n",
       "      <td>...</td>\n",
       "      <td>...</td>\n",
       "      <td>...</td>\n",
       "      <td>...</td>\n",
       "      <td>...</td>\n",
       "      <td>...</td>\n",
       "    </tr>\n",
       "    <tr>\n",
       "      <th>337</th>\n",
       "      <td>Unity Foods Limited.</td>\n",
       "      <td>12.86</td>\n",
       "      <td>13.02</td>\n",
       "      <td>13.13</td>\n",
       "      <td>12.51</td>\n",
       "      <td>12.56</td>\n",
       "      <td>-0.30</td>\n",
       "      <td>21 793 000</td>\n",
       "      <td></td>\n",
       "    </tr>\n",
       "    <tr>\n",
       "      <th>338</th>\n",
       "      <td>Bannu Woollen Mills Limited.</td>\n",
       "      <td>34.00</td>\n",
       "      <td>34.00</td>\n",
       "      <td>34.00</td>\n",
       "      <td>34.00</td>\n",
       "      <td>34.00</td>\n",
       "      <td>0.00</td>\n",
       "      <td>500</td>\n",
       "      <td></td>\n",
       "    </tr>\n",
       "    <tr>\n",
       "      <th>339</th>\n",
       "      <td>Dolmen City REIT.</td>\n",
       "      <td>11.15</td>\n",
       "      <td>11.12</td>\n",
       "      <td>11.22</td>\n",
       "      <td>11.00</td>\n",
       "      <td>11.10</td>\n",
       "      <td>-0.05</td>\n",
       "      <td>1 301 000</td>\n",
       "      <td></td>\n",
       "    </tr>\n",
       "    <tr>\n",
       "      <th>340</th>\n",
       "      <td>NIT Pakistan Gateway  ETF.</td>\n",
       "      <td>10.76</td>\n",
       "      <td>11.03</td>\n",
       "      <td>11.03</td>\n",
       "      <td>10.87</td>\n",
       "      <td>11.03</td>\n",
       "      <td>0.27</td>\n",
       "      <td>9 500</td>\n",
       "      <td></td>\n",
       "    </tr>\n",
       "    <tr>\n",
       "      <th>341</th>\n",
       "      <td>UBL Pakistan Enterprise ETF.(XD)</td>\n",
       "      <td>12.10</td>\n",
       "      <td>12.15</td>\n",
       "      <td>12.15</td>\n",
       "      <td>11.98</td>\n",
       "      <td>12.00</td>\n",
       "      <td>-0.10</td>\n",
       "      <td>16 500</td>\n",
       "      <td></td>\n",
       "    </tr>\n",
       "  </tbody>\n",
       "</table>\n",
       "<p>342 rows × 9 columns</p>\n",
       "</div>"
      ],
      "text/plain": [
       "                                                 SCRIP     LDCP    OPEN  \\\n",
       "0                          Al-Ghazi Tractors Limited.    358.53  356.00   \n",
       "1                                Atlas Honda Limited.    392.00  390.00   \n",
       "2    Dewan Farooque Motors Limited [ DEFAULTER SEGM...     6.09    6.20   \n",
       "3                           Ghandhara Industries Ltd.    143.88  143.98   \n",
       "4                               Ghandhara Nissan Ltd.     69.26   69.30   \n",
       "..                                                 ...      ...     ...   \n",
       "337                              Unity Foods Limited.     12.86   13.02   \n",
       "338                      Bannu Woollen Mills Limited.     34.00   34.00   \n",
       "339                                 Dolmen City REIT.     11.15   11.12   \n",
       "340                        NIT Pakistan Gateway  ETF.     10.76   11.03   \n",
       "341                  UBL Pakistan Enterprise ETF.(XD)     12.10   12.15   \n",
       "\n",
       "       HIGH     LOW   CURRENT   CHANGE       VOLUME     \n",
       "0    356.00  350.00    352.51    -6.02        1 600     \n",
       "1    392.00  390.00    392.00     0.00          200     \n",
       "2      6.20    5.86      5.99    -0.10      436 000     \n",
       "3    154.67  143.60    154.67    10.79    2 037 900     \n",
       "4     74.45   69.30     73.20     3.94    4 625 000     \n",
       "..      ...     ...       ...      ...          ... ..  \n",
       "337   13.13   12.51     12.56    -0.30   21 793 000     \n",
       "338   34.00   34.00     34.00     0.00          500     \n",
       "339   11.22   11.00     11.10    -0.05    1 301 000     \n",
       "340   11.03   10.87     11.03     0.27        9 500     \n",
       "341   12.15   11.98     12.00    -0.10       16 500     \n",
       "\n",
       "[342 rows x 9 columns]"
      ]
     },
     "execution_count": 5,
     "metadata": {},
     "output_type": "execute_result"
    }
   ],
   "source": [
    "print('TIME STOCK DATA UPDATED: ')\n",
    "print(stock_time)\n",
    "Data=pd.read_csv('psx_scraping.csv')\n",
    "Data[:]"
   ]
  },
  {
   "cell_type": "code",
   "execution_count": 6,
   "metadata": {},
   "outputs": [],
   "source": [
    "Data.columns = ['Scrip','LDCP','Open','High','Low','Close','CHANGE','Volume','LAST']\n",
    "Data=Data.drop(['LDCP','CHANGE','LAST'],axis=1)\n",
    "df=Data[Data['Scrip'].str.contains(\"Habib Bank Limited.\")]\n",
    "value=pd.to_datetime(\"today\").date()\n",
    "df.insert(0, 'Date', value)\n"
   ]
  },
  {
   "cell_type": "code",
   "execution_count": 7,
   "metadata": {
    "seekwell": {
     "destination": "superbowl!A1",
     "destinationType": "sheets",
     "spreadsheetId": "HBL"
    }
   },
   "outputs": [
    {
     "name": "stdout",
     "output_type": "stream",
     "text": [
      "TIME HBL DATA UPDATED: \n",
      "2020-07-16 08:00:22.553432\n"
     ]
    },
    {
     "data": {
      "text/html": [
       "<div>\n",
       "<style scoped>\n",
       "    .dataframe tbody tr th:only-of-type {\n",
       "        vertical-align: middle;\n",
       "    }\n",
       "\n",
       "    .dataframe tbody tr th {\n",
       "        vertical-align: top;\n",
       "    }\n",
       "\n",
       "    .dataframe thead th {\n",
       "        text-align: right;\n",
       "    }\n",
       "</style>\n",
       "<table border=\"1\" class=\"dataframe\">\n",
       "  <thead>\n",
       "    <tr style=\"text-align: right;\">\n",
       "      <th></th>\n",
       "      <th>Date</th>\n",
       "      <th>Scrip</th>\n",
       "      <th>Open</th>\n",
       "      <th>High</th>\n",
       "      <th>Low</th>\n",
       "      <th>Close</th>\n",
       "      <th>Volume</th>\n",
       "    </tr>\n",
       "  </thead>\n",
       "  <tbody>\n",
       "    <tr>\n",
       "      <th>71</th>\n",
       "      <td>2020-07-16</td>\n",
       "      <td>Habib Bank Limited.</td>\n",
       "      <td>107.87</td>\n",
       "      <td>107.88</td>\n",
       "      <td>106.1</td>\n",
       "      <td>107.15</td>\n",
       "      <td>588 978</td>\n",
       "    </tr>\n",
       "  </tbody>\n",
       "</table>\n",
       "</div>"
      ],
      "text/plain": [
       "          Date                 Scrip    Open    High    Low   Close    Volume\n",
       "71  2020-07-16  Habib Bank Limited.   107.87  107.88  106.1  107.15   588 978"
      ]
     },
     "execution_count": 7,
     "metadata": {},
     "output_type": "execute_result"
    }
   ],
   "source": [
    "print('TIME HBL DATA UPDATED: ')\n",
    "print(stock_time)\n",
    "df.to_csv('HBL.csv', mode='a', header=False)\n",
    "current=pd.read_csv(\"HBL.csv\")\n",
    "open=df\n",
    "df[:]"
   ]
  },
  {
   "cell_type": "markdown",
   "metadata": {},
   "source": [
    "### NEWS POLARITY CHECK "
   ]
  },
  {
   "cell_type": "code",
   "execution_count": 8,
   "metadata": {
    "seekwell": {
     "destination": "superbowl!A1",
     "destinationType": "sheets",
     "spreadsheetId": "Sentiment"
    }
   },
   "outputs": [],
   "source": [
    "df = df.merge(News,on='Date')\n",
    "df['Compound']=''\n",
    "df['Negative']=''\n",
    "df['Neutral']=''\n",
    "df['Positive']=''\n",
    "for index,sentence in enumerate(df['Headlines']):\n",
    "    ps=sia.polarity_scores(sentence)\n",
    "    df['Compound'][index]=ps['compound']\n",
    "    df['Negative'][index]=ps['neg']\n",
    "    df['Neutral'][index]=ps['neu']\n",
    "    df['Positive'][index]=ps['pos']\n",
    "final_df = df[['Date','Compound','Negative','Neutral','Positive','Open','High','Low','Close','Volume']]\n"
   ]
  },
  {
   "cell_type": "code",
   "execution_count": 9,
   "metadata": {},
   "outputs": [
    {
     "data": {
      "text/html": [
       "<div>\n",
       "<style scoped>\n",
       "    .dataframe tbody tr th:only-of-type {\n",
       "        vertical-align: middle;\n",
       "    }\n",
       "\n",
       "    .dataframe tbody tr th {\n",
       "        vertical-align: top;\n",
       "    }\n",
       "\n",
       "    .dataframe thead th {\n",
       "        text-align: right;\n",
       "    }\n",
       "</style>\n",
       "<table border=\"1\" class=\"dataframe\">\n",
       "  <thead>\n",
       "    <tr style=\"text-align: right;\">\n",
       "      <th></th>\n",
       "      <th>Date</th>\n",
       "      <th>Compound</th>\n",
       "      <th>Negative</th>\n",
       "      <th>Neutral</th>\n",
       "      <th>Positive</th>\n",
       "      <th>Open</th>\n",
       "      <th>High</th>\n",
       "      <th>Low</th>\n",
       "      <th>Close</th>\n",
       "      <th>Volume</th>\n",
       "    </tr>\n",
       "  </thead>\n",
       "  <tbody>\n",
       "  </tbody>\n",
       "</table>\n",
       "</div>"
      ],
      "text/plain": [
       "Empty DataFrame\n",
       "Columns: [Date, Compound, Negative, Neutral, Positive, Open, High, Low, Close, Volume]\n",
       "Index: []"
      ]
     },
     "execution_count": 9,
     "metadata": {},
     "output_type": "execute_result"
    }
   ],
   "source": [
    "final_df.head()"
   ]
  },
  {
   "cell_type": "markdown",
   "metadata": {},
   "source": [
    "### IMPORT LIBRARIES"
   ]
  },
  {
   "cell_type": "code",
   "execution_count": 10,
   "metadata": {},
   "outputs": [
    {
     "name": "stdout",
     "output_type": "stream",
     "text": [
      "STOCK PREDICTION USING RNN LSTM\n"
     ]
    },
    {
     "name": "stderr",
     "output_type": "stream",
     "text": [
      "Using TensorFlow backend.\n"
     ]
    }
   ],
   "source": [
    "print('STOCK PREDICTION USING RNN LSTM')\n",
    "import numpy as np\n",
    "import pandas as pd\n",
    "from sklearn import preprocessing\n",
    "import tensorflow as tf\n",
    "from tensorflow import keras\n",
    "from keras.models import Sequential\n",
    "from keras.layers.core import Dense, Activation\n",
    "from keras.layers.recurrent import LSTM\n",
    "from keras.layers import  Dropout\n",
    "from keras.models import model_from_json\n",
    "from keras.models import load_model\n",
    "from keras import regularizers\n",
    "from keras.utils.vis_utils import plot_model\n",
    "import matplotlib.pyplot as plt\n",
    "import matplotlib.ticker as mtick\n",
    "fmt = '$%.0f'\n",
    "tick = mtick.FormatStrFormatter(fmt)\n",
    "\n",
    "%matplotlib inline"
   ]
  },
  {
   "cell_type": "markdown",
   "metadata": {},
   "source": [
    "### GRAPH PLOT & STORE WITH GOOD RESOLUTION"
   ]
  },
  {
   "cell_type": "code",
   "execution_count": 11,
   "metadata": {},
   "outputs": [],
   "source": [
    "# To plot pretty figures\n",
    "%matplotlib inline\n",
    "import matplotlib as mpl\n",
    "import matplotlib.pyplot as plt\n",
    "mpl.rc('axes', labelsize=14)\n",
    "mpl.rc('xtick', labelsize=12)\n",
    "mpl.rc('ytick', labelsize=12)\n",
    "import os\n",
    "\n",
    "IMAGES_PATH=r\"C:\\Users\\Shaaf Abdullah\\Documents\\Testing\"\n",
    "def save_fig(fig_id, tight_layout=True, fig_extension=\"png\", resolution=300):\n",
    "    path = os.path.join(IMAGES_PATH, fig_id + \".\" + fig_extension)\n",
    "    print(\"Saving figure\", fig_id)\n",
    "    if tight_layout:\n",
    "        plt.tight_layout()\n",
    "    plt.savefig(path, format=fig_extension, dpi=resolution)"
   ]
  },
  {
   "cell_type": "markdown",
   "metadata": {},
   "source": [
    "### LOADING SAVED MODEL"
   ]
  },
  {
   "cell_type": "code",
   "execution_count": 12,
   "metadata": {},
   "outputs": [],
   "source": [
    "model = keras.models.load_model(\"LSTM_keras_model.h5\")\n",
    "model.load_weights(\"LSTM_keras_weights.ckpt\")"
   ]
  },
  {
   "cell_type": "markdown",
   "metadata": {},
   "source": [
    "### HBL CURRENT PRICE PLOT"
   ]
  },
  {
   "cell_type": "code",
   "execution_count": 13,
   "metadata": {},
   "outputs": [
    {
     "data": {
      "text/plain": [
       "<matplotlib.axes._subplots.AxesSubplot at 0x22bcc23d388>"
      ]
     },
     "execution_count": 13,
     "metadata": {},
     "output_type": "execute_result"
    },
    {
     "data": {
      "image/png": "[encoded data removed]",
      "text/plain": [
       "<Figure size 432x288 with 1 Axes>"
      ]
     },
     "metadata": {
      "needs_background": "light"
     },
     "output_type": "display_data"
    }
   ],
   "source": [
    "current[['Close']].plot()"
   ]
  },
  {
   "cell_type": "markdown",
   "metadata": {},
   "source": [
    "### HBL OPEN PRICE PLOT"
   ]
  },
  {
   "cell_type": "code",
   "execution_count": 14,
   "metadata": {},
   "outputs": [
    {
     "data": {
      "text/plain": [
       "<matplotlib.axes._subplots.AxesSubplot at 0x22bcea4cb08>"
      ]
     },
     "execution_count": 14,
     "metadata": {},
     "output_type": "execute_result"
    },
    {
     "data": {
      "image/png": "[encoded data removed]",
      "text/plain": [
       "<Figure size 432x288 with 1 Axes>"
      ]
     },
     "metadata": {
      "needs_background": "light"
     },
     "output_type": "display_data"
    }
   ],
   "source": [
    "current[['Open']].plot()"
   ]
  },
  {
   "cell_type": "code",
   "execution_count": 15,
   "metadata": {},
   "outputs": [],
   "source": [
    "current=current.drop('Unnamed: 0',axis=1)\n",
    "current=current.iloc[-1]\n"
   ]
  },
  {
   "cell_type": "code",
   "execution_count": 16,
   "metadata": {},
   "outputs": [],
   "source": [
    "from __future__ import division\n",
    "def Advice(threshold,current=current):\n",
    "    close=float(current['Close'])\n",
    "    open=float(current['Open'])\n",
    "    percentage = '{0:.2f}'.format((close / open * 100))\n",
    "    if(close<open*threshold*0.01):\n",
    "        print(\"Warning\")\n",
    "        print(\"The Current Price is Going Below: \"+str(threshold)+\"%\")\n",
    "        print(\"Open: \"+str(open))\n",
    "        print(\"Current: \"+str(close))\n",
    "        print(\"The Current Price is Going \"+percentage+\"% of Open Price\")\n",
    "    elif (float(percentage)==100.0):\n",
    "        print(\"The Open and Current Price is Going Same\")\n",
    "        print(\"Open: \"+str(open))\n",
    "        print(\"Current: \"+str(close))\n",
    "        print(\"The Current Price is Going \"+percentage+\"% of Open Price\")\n",
    "    elif (float(percentage)>100.0):\n",
    "        print(\"The Current Price is Going Up to Open Price\")\n",
    "        print(\"Open: \"+str(open))\n",
    "        print(\"Current: \"+str(close))\n",
    "        print(\"The Current Price is Going \"+percentage+\"% of Open Price\")\n",
    "    else:\n",
    "        print(\"Status\")\n",
    "        print(\"Open: \"+str(open))\n",
    "        print(\"Current: \"+str(close))\n",
    "        print(\"The Current Price is Going \"+percentage+\"% of Open Price\")\n",
    "        "
   ]
  },
  {
   "cell_type": "code",
   "execution_count": 17,
   "metadata": {},
   "outputs": [
    {
     "name": "stdout",
     "output_type": "stream",
     "text": [
      "Status\n",
      "Open: 107.87\n",
      "Current: 107.15\n",
      "The Current Price is Going 99.33% of Open Price\n"
     ]
    }
   ],
   "source": [
    "Advice(95)"
   ]
  },
  {
   "cell_type": "markdown",
   "metadata": {},
   "source": [
    "### PREPROCESSING + PREDICTION"
   ]
  },
  {
   "cell_type": "code",
   "execution_count": null,
   "metadata": {},
   "outputs": [],
   "source": [
    "        start=0\n",
    "        total_data=len(final_df)\n",
    "        # Currently doing prediction only for 1 step ahead\n",
    "        steps_to_predict = 1\n",
    "\n",
    "        #close, compund, neg, neu, pos, open, high, low, volume\n",
    "        # Order -> 8,1,2,3,4,5,6,7,9\n",
    "        yt = final_df.iloc[start:total_data,8] #close\n",
    "        yt1 = final_df.iloc[start:total_data,1] #compund\n",
    "        yt2 = final_df.iloc[start:total_data,2] #neg\n",
    "        yt3 = final_df.iloc[start:total_data,3] #neu\n",
    "        yt4 = final_df.iloc[start:total_data,4] #pos\n",
    "        yt5 = final_df.iloc[start:total_data,5] #open\n",
    "        yt6 = final_df.iloc[start:total_data,6] #high\n",
    "        yt7 = final_df.iloc[start:total_data,7] #low\n",
    "        vt = final_df.iloc[start:total_data,9] #volume\n",
    "        yt_ = yt.shift(-1) #shifted close\n",
    "        yt1_ = yt1.shift(-1) #shifted compund\n",
    "\n",
    "       #taking only: close, next_close, compund, next_compund, volume, open, high, low\n",
    "        data = pd.concat([yt, yt_, yt1, yt1_, vt, yt5, yt6, yt7], axis=1)\n",
    "        data.columns = ['yt', 'yt_', 'yt1', 'yt1_','vt', 'yt5', 'yt6', 'yt7']\n",
    "\n",
    "        data = data.dropna()\n",
    "        # target variable - closed price\n",
    "        # after shifting\n",
    "        y = data['yt_'] #next_close\n",
    "\n",
    "        # close, compund, next_compund, volume, open, high, low   \n",
    "        cols = ['yt', 'yt1', 'yt1_', 'vt', 'yt5', 'yt6', 'yt7']\n",
    "        x = data[cols]\n",
    "        scaler_x = preprocessing.MinMaxScaler (feature_range=(-1, 1))\n",
    "        x = np.array(x).reshape((len(x) ,len(cols)))\n",
    "        x = scaler_x.fit_transform(x)\n",
    "\n",
    "        scaler_y = preprocessing.MinMaxScaler (feature_range=(-1, 1))\n",
    "        y = np.array (y).reshape ((len( y), 1))\n",
    "        y = scaler_y.fit_transform (y)\n",
    "        X_test = x[0: len(x),]    \n",
    "        y_test = y[0: len(y)]\n",
    "        X_test = X_test.reshape(X_test.shape + (1,))\n",
    "        \n",
    "        pred = model.predict(X_test) \n",
    "        pred = scaler_y.inverse_transform(np.array(pred).reshape((len(pred), 1)))\n",
    "\n",
    "        prediction_data = pred[-1]     \n",
    "\n",
    "        print (\"Inputs: {}\".format(model.input_shape))\n",
    "        print (\"Outputs: {}\".format(model.output_shape))\n",
    "        print (\"Actual input: {}\".format(X_test.shape))\n",
    "        print (\"Actual output: {}\".format(y_test.shape))\n",
    "\n",
    "        print (\"prediction data:\")\n",
    "        print (prediction_data)\n",
    "\n",
    "        print (\"actual data\")\n",
    "        X_test = scaler_x.inverse_transform(np.array(X_test).reshape((len(X_test), len(cols))))\n",
    "        print (X_test)\n",
    "        #########################################################################\n",
    "        '''Plotting'''\n",
    "        plt.plot(pred, label=\"predictions\")\n",
    "\n",
    "        y_test = scaler_y.inverse_transform(np.array(y_test).reshape((len( y_test), 1)))\n",
    "        plt.plot([row[0] for row in y_test], label=\"actual\")\n",
    "\n",
    "        plt.legend(loc='upper center', bbox_to_anchor=(0.5, -0.05), fancybox=True, shadow=True, ncol=2)\n",
    "\n",
    "        ax = plt.axes()\n",
    "        ax.yaxis.set_major_formatter(tick)\n",
    "        plt.show()\n",
    "        plt.clf()\n",
    "        X_test = x[0: len(x),]    \n",
    "        y_test = y[0: len(y)]\n",
    "        X_test = X_test.reshape(X_test.shape + (1,))\n",
    "       \n",
    "        score_test = model.evaluate(X_test, y_test, batch_size =1)\n",
    "        print(\"in test MSE = \", (score_test) )"
   ]
  },
  {
   "cell_type": "code",
   "execution_count": 24,
   "metadata": {},
   "outputs": [
    {
     "data": {
      "text/plain": [
       "Series([], Name: Positive, dtype: object)"
      ]
     },
     "execution_count": 24,
     "metadata": {},
     "output_type": "execute_result"
    }
   ],
   "source": []
  },
  {
   "cell_type": "code",
   "execution_count": null,
   "metadata": {},
   "outputs": [],
   "source": [
    "print(\"The Model Predicts the Next Closing Price: \")\n",
    "print(prediction_data)\n",
    "Advice(98)"
   ]
  }
 ],
 "metadata": {
  "celltoolbar": "Edit Metadata",
  "kernelspec": {
   "display_name": "Python 3",
   "language": "python",
   "name": "python3"
  },
  "language_info": {
   "codemirror_mode": {
    "name": "ipython",
    "version": 3
   },
   "file_extension": ".py",
   "mimetype": "text/x-python",
   "name": "python",
   "nbconvert_exporter": "python",
   "pygments_lexer": "ipython3",
   "version": "3.7.7"
  }
 },
 "nbformat": 4,
 "nbformat_minor": 4
}
