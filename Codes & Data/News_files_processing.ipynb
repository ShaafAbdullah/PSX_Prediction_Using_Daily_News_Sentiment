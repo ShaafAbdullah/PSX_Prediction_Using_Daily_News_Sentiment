{
 "cells": [
  {
   "cell_type": "code",
   "execution_count": 1,
   "metadata": {},
   "outputs": [],
   "source": [
    "import pandas as pd"
   ]
  },
  {
   "cell_type": "code",
   "execution_count": 2,
   "metadata": {},
   "outputs": [],
   "source": [
    "news=pd.read_csv(\"dawnnews.csv\")"
   ]
  },
  {
   "cell_type": "code",
   "execution_count": 3,
   "metadata": {},
   "outputs": [
    {
     "data": {
      "text/html": [
       "<div>\n",
       "<style scoped>\n",
       "    .dataframe tbody tr th:only-of-type {\n",
       "        vertical-align: middle;\n",
       "    }\n",
       "\n",
       "    .dataframe tbody tr th {\n",
       "        vertical-align: top;\n",
       "    }\n",
       "\n",
       "    .dataframe thead th {\n",
       "        text-align: right;\n",
       "    }\n",
       "</style>\n",
       "<table border=\"1\" class=\"dataframe\">\n",
       "  <thead>\n",
       "    <tr style=\"text-align: right;\">\n",
       "      <th></th>\n",
       "      <th>PageType</th>\n",
       "      <th>Link_paper</th>\n",
       "      <th>Date</th>\n",
       "      <th>Link_news</th>\n",
       "      <th>Headline</th>\n",
       "    </tr>\n",
       "  </thead>\n",
       "  <tbody>\n",
       "    <tr>\n",
       "      <th>0</th>\n",
       "      <td>front-page</td>\n",
       "      <td>https://www.dawn.com/newspaper/front-page/2010...</td>\n",
       "      <td>2010-08-30</td>\n",
       "      <td>https://www.dawn.com/news/558270/unprecedented...</td>\n",
       "      <td>Unprecedented briefing planned by Taliban</td>\n",
       "    </tr>\n",
       "    <tr>\n",
       "      <th>1</th>\n",
       "      <td>front-page</td>\n",
       "      <td>https://www.dawn.com/newspaper/front-page/2010...</td>\n",
       "      <td>2010-08-30</td>\n",
       "      <td>https://www.dawn.com/news/558149/economic-deci...</td>\n",
       "      <td>Economic decisions taken by cabinet ignored</td>\n",
       "    </tr>\n",
       "    <tr>\n",
       "      <th>2</th>\n",
       "      <td>front-page</td>\n",
       "      <td>https://www.dawn.com/newspaper/front-page/2010...</td>\n",
       "      <td>2010-08-30</td>\n",
       "      <td>https://www.dawn.com/news/558148/crisis-called...</td>\n",
       "      <td>Crisis called Pakistan`s Katrina Kerry urges w...</td>\n",
       "    </tr>\n",
       "    <tr>\n",
       "      <th>3</th>\n",
       "      <td>front-page</td>\n",
       "      <td>https://www.dawn.com/newspaper/front-page/2010...</td>\n",
       "      <td>2010-08-30</td>\n",
       "      <td>https://www.dawn.com/news/558131/the-unbearabl...</td>\n",
       "      <td>The unbearable lightness of Pakistan cricket</td>\n",
       "    </tr>\n",
       "    <tr>\n",
       "      <th>4</th>\n",
       "      <td>front-page</td>\n",
       "      <td>https://www.dawn.com/newspaper/front-page/2010...</td>\n",
       "      <td>2010-08-30</td>\n",
       "      <td>https://www.dawn.com/news/558130/pakistan-cric...</td>\n",
       "      <td>Pakistan cricket dealt another hard blow</td>\n",
       "    </tr>\n",
       "  </tbody>\n",
       "</table>\n",
       "</div>"
      ],
      "text/plain": [
       "     PageType                                         Link_paper        Date  \\\n",
       "0  front-page  https://www.dawn.com/newspaper/front-page/2010...  2010-08-30   \n",
       "1  front-page  https://www.dawn.com/newspaper/front-page/2010...  2010-08-30   \n",
       "2  front-page  https://www.dawn.com/newspaper/front-page/2010...  2010-08-30   \n",
       "3  front-page  https://www.dawn.com/newspaper/front-page/2010...  2010-08-30   \n",
       "4  front-page  https://www.dawn.com/newspaper/front-page/2010...  2010-08-30   \n",
       "\n",
       "                                           Link_news  \\\n",
       "0  https://www.dawn.com/news/558270/unprecedented...   \n",
       "1  https://www.dawn.com/news/558149/economic-deci...   \n",
       "2  https://www.dawn.com/news/558148/crisis-called...   \n",
       "3  https://www.dawn.com/news/558131/the-unbearabl...   \n",
       "4  https://www.dawn.com/news/558130/pakistan-cric...   \n",
       "\n",
       "                                            Headline  \n",
       "0          Unprecedented briefing planned by Taliban  \n",
       "1        Economic decisions taken by cabinet ignored  \n",
       "2  Crisis called Pakistan`s Katrina Kerry urges w...  \n",
       "3       The unbearable lightness of Pakistan cricket  \n",
       "4           Pakistan cricket dealt another hard blow  "
      ]
     },
     "execution_count": 3,
     "metadata": {},
     "output_type": "execute_result"
    }
   ],
   "source": [
    "news.head()"
   ]
  },
  {
   "cell_type": "code",
   "execution_count": 4,
   "metadata": {},
   "outputs": [
    {
     "data": {
      "text/html": [
       "<div>\n",
       "<style scoped>\n",
       "    .dataframe tbody tr th:only-of-type {\n",
       "        vertical-align: middle;\n",
       "    }\n",
       "\n",
       "    .dataframe tbody tr th {\n",
       "        vertical-align: top;\n",
       "    }\n",
       "\n",
       "    .dataframe thead th {\n",
       "        text-align: right;\n",
       "    }\n",
       "</style>\n",
       "<table border=\"1\" class=\"dataframe\">\n",
       "  <thead>\n",
       "    <tr style=\"text-align: right;\">\n",
       "      <th></th>\n",
       "      <th>Date</th>\n",
       "      <th>Headline</th>\n",
       "    </tr>\n",
       "  </thead>\n",
       "  <tbody>\n",
       "    <tr>\n",
       "      <th>0</th>\n",
       "      <td>2010-08-30</td>\n",
       "      <td>Unprecedented briefing planned by Taliban</td>\n",
       "    </tr>\n",
       "    <tr>\n",
       "      <th>1</th>\n",
       "      <td>2010-08-30</td>\n",
       "      <td>Economic decisions taken by cabinet ignored</td>\n",
       "    </tr>\n",
       "    <tr>\n",
       "      <th>2</th>\n",
       "      <td>2010-08-30</td>\n",
       "      <td>Crisis called Pakistan`s Katrina Kerry urges w...</td>\n",
       "    </tr>\n",
       "    <tr>\n",
       "      <th>3</th>\n",
       "      <td>2010-08-30</td>\n",
       "      <td>The unbearable lightness of Pakistan cricket</td>\n",
       "    </tr>\n",
       "    <tr>\n",
       "      <th>4</th>\n",
       "      <td>2010-08-30</td>\n",
       "      <td>Pakistan cricket dealt another hard blow</td>\n",
       "    </tr>\n",
       "  </tbody>\n",
       "</table>\n",
       "</div>"
      ],
      "text/plain": [
       "         Date                                           Headline\n",
       "0  2010-08-30          Unprecedented briefing planned by Taliban\n",
       "1  2010-08-30        Economic decisions taken by cabinet ignored\n",
       "2  2010-08-30  Crisis called Pakistan`s Katrina Kerry urges w...\n",
       "3  2010-08-30       The unbearable lightness of Pakistan cricket\n",
       "4  2010-08-30           Pakistan cricket dealt another hard blow"
      ]
     },
     "execution_count": 4,
     "metadata": {},
     "output_type": "execute_result"
    }
   ],
   "source": [
    "news=news.drop([\"PageType\",\"Link_paper\",\"Link_news\"],axis=1)\n",
    "news.head()"
   ]
  },
  {
   "cell_type": "code",
   "execution_count": 5,
   "metadata": {},
   "outputs": [],
   "source": [
    "news['Date'] = pd.to_datetime(news['Date']).dt.date"
   ]
  },
  {
   "cell_type": "code",
   "execution_count": 6,
   "metadata": {},
   "outputs": [],
   "source": [
    "news2=pd.read_csv('finalnews.csv')"
   ]
  },
  {
   "cell_type": "code",
   "execution_count": 7,
   "metadata": {},
   "outputs": [
    {
     "data": {
      "text/html": [
       "<div>\n",
       "<style scoped>\n",
       "    .dataframe tbody tr th:only-of-type {\n",
       "        vertical-align: middle;\n",
       "    }\n",
       "\n",
       "    .dataframe tbody tr th {\n",
       "        vertical-align: top;\n",
       "    }\n",
       "\n",
       "    .dataframe thead th {\n",
       "        text-align: right;\n",
       "    }\n",
       "</style>\n",
       "<table border=\"1\" class=\"dataframe\">\n",
       "  <thead>\n",
       "    <tr style=\"text-align: right;\">\n",
       "      <th></th>\n",
       "      <th>Date</th>\n",
       "      <th>Headline</th>\n",
       "    </tr>\n",
       "  </thead>\n",
       "  <tbody>\n",
       "    <tr>\n",
       "      <th>0</th>\n",
       "      <td>2020-03-01</td>\n",
       "      <td>South Africa whip Pakistan women to make T20 W...</td>\n",
       "    </tr>\n",
       "    <tr>\n",
       "      <th>1</th>\n",
       "      <td>2020-03-01</td>\n",
       "      <td>Sindh extends closure of educational instituti...</td>\n",
       "    </tr>\n",
       "    <tr>\n",
       "      <th>2</th>\n",
       "      <td>2020-03-02</td>\n",
       "      <td>Karachi Kings rout Islamabad United by 5 wicke...</td>\n",
       "    </tr>\n",
       "    <tr>\n",
       "      <th>3</th>\n",
       "      <td>2020-03-01</td>\n",
       "      <td>Javeria Khan becomes fourth Pakistani woman cr...</td>\n",
       "    </tr>\n",
       "    <tr>\n",
       "      <th>4</th>\n",
       "      <td>2020-03-01</td>\n",
       "      <td>Afghan leadership must now decide what kind of...</td>\n",
       "    </tr>\n",
       "  </tbody>\n",
       "</table>\n",
       "</div>"
      ],
      "text/plain": [
       "         Date                                           Headline\n",
       "0  2020-03-01  South Africa whip Pakistan women to make T20 W...\n",
       "1  2020-03-01  Sindh extends closure of educational instituti...\n",
       "2  2020-03-02  Karachi Kings rout Islamabad United by 5 wicke...\n",
       "3  2020-03-01  Javeria Khan becomes fourth Pakistani woman cr...\n",
       "4  2020-03-01  Afghan leadership must now decide what kind of..."
      ]
     },
     "execution_count": 7,
     "metadata": {},
     "output_type": "execute_result"
    }
   ],
   "source": [
    "news2.head()"
   ]
  },
  {
   "cell_type": "code",
   "execution_count": 8,
   "metadata": {},
   "outputs": [
    {
     "data": {
      "text/plain": [
       "(19098, 2)"
      ]
     },
     "execution_count": 8,
     "metadata": {},
     "output_type": "execute_result"
    }
   ],
   "source": [
    "news.shape"
   ]
  },
  {
   "cell_type": "code",
   "execution_count": 9,
   "metadata": {},
   "outputs": [
    {
     "data": {
      "text/plain": [
       "(6929, 2)"
      ]
     },
     "execution_count": 9,
     "metadata": {},
     "output_type": "execute_result"
    }
   ],
   "source": [
    "news2.shape"
   ]
  },
  {
   "cell_type": "code",
   "execution_count": 10,
   "metadata": {},
   "outputs": [
    {
     "data": {
      "text/plain": [
       "(26027, 2)"
      ]
     },
     "execution_count": 10,
     "metadata": {},
     "output_type": "execute_result"
    }
   ],
   "source": [
    "news=news.append(news2)\n",
    "news.shape"
   ]
  },
  {
   "cell_type": "code",
   "execution_count": 11,
   "metadata": {},
   "outputs": [],
   "source": [
    "news=news.reset_index()"
   ]
  },
  {
   "cell_type": "code",
   "execution_count": 12,
   "metadata": {},
   "outputs": [],
   "source": [
    "news.to_csv(\"news_corpus.csv\")"
   ]
  },
  {
   "cell_type": "code",
   "execution_count": 13,
   "metadata": {},
   "outputs": [
    {
     "data": {
      "text/html": [
       "<div>\n",
       "<style scoped>\n",
       "    .dataframe tbody tr th:only-of-type {\n",
       "        vertical-align: middle;\n",
       "    }\n",
       "\n",
       "    .dataframe tbody tr th {\n",
       "        vertical-align: top;\n",
       "    }\n",
       "\n",
       "    .dataframe thead th {\n",
       "        text-align: right;\n",
       "    }\n",
       "</style>\n",
       "<table border=\"1\" class=\"dataframe\">\n",
       "  <thead>\n",
       "    <tr style=\"text-align: right;\">\n",
       "      <th></th>\n",
       "      <th>index</th>\n",
       "      <th>Date</th>\n",
       "      <th>Headline</th>\n",
       "    </tr>\n",
       "  </thead>\n",
       "  <tbody>\n",
       "    <tr>\n",
       "      <th>0</th>\n",
       "      <td>0</td>\n",
       "      <td>2010-08-30</td>\n",
       "      <td>Unprecedented briefing planned by Taliban</td>\n",
       "    </tr>\n",
       "    <tr>\n",
       "      <th>1</th>\n",
       "      <td>1</td>\n",
       "      <td>2010-08-30</td>\n",
       "      <td>Economic decisions taken by cabinet ignored</td>\n",
       "    </tr>\n",
       "    <tr>\n",
       "      <th>2</th>\n",
       "      <td>2</td>\n",
       "      <td>2010-08-30</td>\n",
       "      <td>Crisis called Pakistan`s Katrina Kerry urges w...</td>\n",
       "    </tr>\n",
       "    <tr>\n",
       "      <th>3</th>\n",
       "      <td>3</td>\n",
       "      <td>2010-08-30</td>\n",
       "      <td>The unbearable lightness of Pakistan cricket</td>\n",
       "    </tr>\n",
       "    <tr>\n",
       "      <th>4</th>\n",
       "      <td>4</td>\n",
       "      <td>2010-08-30</td>\n",
       "      <td>Pakistan cricket dealt another hard blow</td>\n",
       "    </tr>\n",
       "  </tbody>\n",
       "</table>\n",
       "</div>"
      ],
      "text/plain": [
       "   index        Date                                           Headline\n",
       "0      0  2010-08-30          Unprecedented briefing planned by Taliban\n",
       "1      1  2010-08-30        Economic decisions taken by cabinet ignored\n",
       "2      2  2010-08-30  Crisis called Pakistan`s Katrina Kerry urges w...\n",
       "3      3  2010-08-30       The unbearable lightness of Pakistan cricket\n",
       "4      4  2010-08-30           Pakistan cricket dealt another hard blow"
      ]
     },
     "execution_count": 13,
     "metadata": {},
     "output_type": "execute_result"
    }
   ],
   "source": [
    "news.head()"
   ]
  },
  {
   "cell_type": "code",
   "execution_count": 21,
   "metadata": {},
   "outputs": [],
   "source": [
    "tribune=pd.read_csv(\"Business_news_tribune.csv\")"
   ]
  },
  {
   "cell_type": "code",
   "execution_count": 22,
   "metadata": {},
   "outputs": [
    {
     "data": {
      "text/html": [
       "<div>\n",
       "<style scoped>\n",
       "    .dataframe tbody tr th:only-of-type {\n",
       "        vertical-align: middle;\n",
       "    }\n",
       "\n",
       "    .dataframe tbody tr th {\n",
       "        vertical-align: top;\n",
       "    }\n",
       "\n",
       "    .dataframe thead th {\n",
       "        text-align: right;\n",
       "    }\n",
       "</style>\n",
       "<table border=\"1\" class=\"dataframe\">\n",
       "  <thead>\n",
       "    <tr style=\"text-align: right;\">\n",
       "      <th></th>\n",
       "      <th>Sr No.</th>\n",
       "      <th>link</th>\n",
       "      <th>tagline</th>\n",
       "      <th>news</th>\n",
       "      <th>published date</th>\n",
       "    </tr>\n",
       "  </thead>\n",
       "  <tbody>\n",
       "    <tr>\n",
       "      <th>0</th>\n",
       "      <td>0</td>\n",
       "      <td>https://tribune.com.pk/story/2109902/2-strong-...</td>\n",
       "      <td>'Strong stocks rally reflects investor confide...</td>\n",
       "      <td>KSE-100 Index's 14.9% gain in November is high...</td>\n",
       "      <td>December 1, 2019</td>\n",
       "    </tr>\n",
       "    <tr>\n",
       "      <th>1</th>\n",
       "      <td>1</td>\n",
       "      <td>https://tribune.com.pk/story/2109584/2-japan-m...</td>\n",
       "      <td>Japan mulls over $92 billion stimulus package ...</td>\n",
       "      <td>Govt will finalise package early next week aft...</td>\n",
       "      <td>December 1, 2019</td>\n",
       "    </tr>\n",
       "    <tr>\n",
       "      <th>2</th>\n",
       "      <td>2</td>\n",
       "      <td>https://tribune.com.pk/story/2109590/2-weekly-...</td>\n",
       "      <td>Weekly review: KSE-100 surges for fifth straig...</td>\n",
       "      <td>Index gains 1,362 points as policy rate decisi...</td>\n",
       "      <td>December 1, 2019</td>\n",
       "    </tr>\n",
       "    <tr>\n",
       "      <th>3</th>\n",
       "      <td>3</td>\n",
       "      <td>https://tribune.com.pk/story/2109602/2-pakista...</td>\n",
       "      <td>Pakistan Refinery searches for Chinese partners</td>\n",
       "      <td>Investors will provide vital financing for ref...</td>\n",
       "      <td>December 1, 2019</td>\n",
       "    </tr>\n",
       "    <tr>\n",
       "      <th>4</th>\n",
       "      <td>4</td>\n",
       "      <td>https://tribune.com.pk/story/2109600/2-psx-app...</td>\n",
       "      <td>PSX to appoint Pakistani national as CEO this ...</td>\n",
       "      <td>Decision on hiring will be taken by end of Dec...</td>\n",
       "      <td>December 1, 2019</td>\n",
       "    </tr>\n",
       "  </tbody>\n",
       "</table>\n",
       "</div>"
      ],
      "text/plain": [
       "   Sr No.                                               link  \\\n",
       "0       0  https://tribune.com.pk/story/2109902/2-strong-...   \n",
       "1       1  https://tribune.com.pk/story/2109584/2-japan-m...   \n",
       "2       2  https://tribune.com.pk/story/2109590/2-weekly-...   \n",
       "3       3  https://tribune.com.pk/story/2109602/2-pakista...   \n",
       "4       4  https://tribune.com.pk/story/2109600/2-psx-app...   \n",
       "\n",
       "                                             tagline  \\\n",
       "0  'Strong stocks rally reflects investor confide...   \n",
       "1  Japan mulls over $92 billion stimulus package ...   \n",
       "2  Weekly review: KSE-100 surges for fifth straig...   \n",
       "3    Pakistan Refinery searches for Chinese partners   \n",
       "4  PSX to appoint Pakistani national as CEO this ...   \n",
       "\n",
       "                                                news    published date  \n",
       "0  KSE-100 Index's 14.9% gain in November is high...  December 1, 2019  \n",
       "1  Govt will finalise package early next week aft...  December 1, 2019  \n",
       "2  Index gains 1,362 points as policy rate decisi...  December 1, 2019  \n",
       "3  Investors will provide vital financing for ref...  December 1, 2019  \n",
       "4  Decision on hiring will be taken by end of Dec...  December 1, 2019  "
      ]
     },
     "execution_count": 22,
     "metadata": {},
     "output_type": "execute_result"
    }
   ],
   "source": [
    "tribune.head()"
   ]
  },
  {
   "cell_type": "code",
   "execution_count": 23,
   "metadata": {},
   "outputs": [],
   "source": [
    "tribune=tribune.drop([\"Sr No.\",\"link\"],axis=1)\n",
    "tribune.columns = ['Headline','News','Date']\n",
    "tribune['Date'] = pd.to_datetime(news['Date'])\n",
    "tribune=tribune.groupby(['Date']).agg(lambda col: ','.join(col))\n",
    "tribune['Combined_News'] = tribune[['Headline', 'News']].apply(lambda x: ', '.join(x), axis = 1)\n",
    "tribune=tribune.drop([\"Headline\",\"News\"],axis=1)"
   ]
  },
  {
   "cell_type": "code",
   "execution_count": 25,
   "metadata": {},
   "outputs": [],
   "source": [
    "tribune.to_csv(\"tribune_final.csv\")"
   ]
  },
  {
   "cell_type": "code",
   "execution_count": null,
   "metadata": {},
   "outputs": [],
   "source": []
  }
 ],
 "metadata": {
  "kernelspec": {
   "display_name": "Python 3",
   "language": "python",
   "name": "python3"
  },
  "language_info": {
   "codemirror_mode": {
    "name": "ipython",
    "version": 3
   },
   "file_extension": ".py",
   "mimetype": "text/x-python",
   "name": "python",
   "nbconvert_exporter": "python",
   "pygments_lexer": "ipython3",
   "version": "3.7.7"
  }
 },
 "nbformat": 4,
 "nbformat_minor": 4
}
